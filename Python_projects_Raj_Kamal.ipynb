{
  "nbformat": 4,
  "nbformat_minor": 0,
  "metadata": {
    "colab": {
      "provenance": []
    },
    "kernelspec": {
      "name": "python3",
      "display_name": "Python 3"
    },
    "language_info": {
      "name": "python"
    }
  },
  "cells": [
    {
      "cell_type": "code",
      "source": [
        "#Q1.calculator_generator\n",
        "\"\"\"Program Statement\n",
        "This code defines a function called calculator_generator() that acts as a simple calculator.\n",
        "It allows users to enter an arithmetic operation (+, -, *,/) and two numbers, and then performs the specified calculation and displays\n",
        "the result. Here is the code\n",
        "\"\"\""
      ],
      "metadata": {
        "id": "gXxm7nyj8R3m"
      },
      "execution_count": null,
      "outputs": []
    },
    {
      "cell_type": "code",
      "source": [
        "# Code\n",
        "def calculator_generator():\n",
        "    for i in range(1):\n",
        "        # Get operation from user\n",
        "        operation = input(\"Enter an operation (+, -, *, /): \")\n",
        "\n",
        "        # Check if operation is valid\n",
        "        if operation not in \"+-*/\":\n",
        "            print(\"Invalid operation. Please enter a valid operation (+, -, *, /).\")\n",
        "            continue\n",
        "        # Get two numbers from user\n",
        "        num1 = float(input(\"Enter first number: \"))\n",
        "        num2 = float(input(\"Enter second number: \"))\n",
        "        # Perform the specified operation and display the result\n",
        "        if operation == \"+\":\n",
        "            result = num1 + num2\n",
        "        elif operation == \"-\":\n",
        "            result = num1 - num2\n",
        "        elif operation == \"*\":\n",
        "            result = num1 * num2\n",
        "        elif operation == \"/\":\n",
        "            if num2 == 0:\n",
        "                print(\"Division by zero is not allowed.\")\n",
        "                continue\n",
        "            else:\n",
        "                result = num1 / num2\n",
        "        print(\"Result:\", result)\n",
        "\n",
        "        # Ask if user wants to perform another calculation\n",
        "        choice = input(\"Do you want to perform another calculation? (y/n): \")\n",
        "        if choice.lower() != 'y':\n",
        "            break\n",
        "if __name__ == \"__main__\":\n",
        "    calculator_generator()"
      ],
      "metadata": {
        "colab": {
          "base_uri": "https://localhost:8080/"
        },
        "id": "G0QwV28w9XQm",
        "outputId": "437d5a2a-da2a-491a-98a8-e90e8472c6bb"
      },
      "execution_count": 6,
      "outputs": [
        {
          "output_type": "stream",
          "name": "stdout",
          "text": [
            "Enter an operation (+, -, *, /): /\n",
            "Enter first number: 8\n",
            "Enter second number: 0\n",
            "Division by zero is not allowed.\n"
          ]
        }
      ]
    },
    {
      "cell_type": "code",
      "source": [
        "\"\"\"\n",
        "Conclusion-This code provides basic calculator functionality using a for loop and conditional statements.\n",
        "It demonstrates input handling, arithmetic operations\n",
        "\"\"\""
      ],
      "metadata": {
        "id": "sKq1zksm-iWW"
      },
      "execution_count": null,
      "outputs": []
    },
    {
      "cell_type": "code",
      "source": [
        "#Q2.Python code for converting various units:"
      ],
      "metadata": {
        "id": "QIm-0ArtxPjn"
      },
      "execution_count": null,
      "outputs": []
    },
    {
      "cell_type": "code",
      "source": [
        "\"\"\"\n",
        "Program Statement\n",
        "This code provides functions and code to convert between various units of measurement, including miles and kilometers, pounds\n",
        "and kilograms, inches and centimeters. It allows users to input values in one unit and get the corresponding value in the other unit.\n",
        "\"\"\""
      ],
      "metadata": {
        "id": "yCEsoTli_IVN"
      },
      "execution_count": null,
      "outputs": []
    },
    {
      "cell_type": "code",
      "source": [
        "def miles_to_km(miles):\n",
        "    kilometers = miles * 1.60934\n",
        "    return kilometers\n",
        "miles = float(input(\"Enter miles: \"))\n",
        "kilometers = miles_to_km(miles)\n",
        "print(miles, \"miles is equal to\", kilometers, \"kilometers\")"
      ],
      "metadata": {
        "colab": {
          "base_uri": "https://localhost:8080/"
        },
        "id": "C4rj9qiKxbFq",
        "outputId": "6d8786e2-9503-43ad-9659-c4e3b4688d52"
      },
      "execution_count": 2,
      "outputs": [
        {
          "output_type": "stream",
          "name": "stdout",
          "text": [
            "Enter miles: 28\n",
            "28.0 miles is equal to 45.06152 kilometers\n"
          ]
        }
      ]
    },
    {
      "cell_type": "code",
      "source": [
        "def km_to_miles(kilometers):\n",
        "    miles = kilometers / 1.60934\n",
        "    return miles\n",
        "kilometers = float(input(\"Enter kilometers: \"))\n",
        "miles = km_to_miles(kilometers)\n",
        "print(kilometers, \"kilometers is equal to\", miles, \"miles\")\n"
      ],
      "metadata": {
        "colab": {
          "base_uri": "https://localhost:8080/"
        },
        "id": "ZeJmLgbPxdZF",
        "outputId": "eb5c017b-19fc-434e-ac13-6ee320142283"
      },
      "execution_count": 3,
      "outputs": [
        {
          "output_type": "stream",
          "name": "stdout",
          "text": [
            "Enter kilometers: 80\n",
            "80.0 kilometers is equal to 49.70981893198454 miles\n"
          ]
        }
      ]
    },
    {
      "cell_type": "code",
      "source": [
        "def pounds_to_kg(pounds):\n",
        "    kilograms = pounds * 0.453592\n",
        "    return kilograms\n",
        "pounds = float(input(\"Enter pounds: \"))\n",
        "kilograms = pounds_to_kg(pounds)\n",
        "print(pounds, \"pounds is equal to\", kilograms, \"kilograms\")"
      ],
      "metadata": {
        "colab": {
          "base_uri": "https://localhost:8080/"
        },
        "id": "pkzdSVspxo1Q",
        "outputId": "8368d568-f06b-426d-d03e-35b6c3843876"
      },
      "execution_count": 4,
      "outputs": [
        {
          "output_type": "stream",
          "name": "stdout",
          "text": [
            "Enter pounds: 10\n",
            "10.0 pounds is equal to 4.53592 kilograms\n"
          ]
        }
      ]
    },
    {
      "cell_type": "code",
      "source": [
        "def kg_to_pounds(kilograms):\n",
        "    pounds = kilograms / 0.453592\n",
        "    return pounds\n",
        "kilograms = float(input(\"Enter kilograms: \"))\n",
        "pounds = kg_to_pounds(kilograms)\n",
        "print(kilograms, \"kilograms is equal to\", pounds, \"pounds\")"
      ],
      "metadata": {
        "colab": {
          "base_uri": "https://localhost:8080/"
        },
        "id": "jdWByZBfxuX2",
        "outputId": "d1bb4414-c239-4f64-f378-5bc8551b4faf"
      },
      "execution_count": 6,
      "outputs": [
        {
          "output_type": "stream",
          "name": "stdout",
          "text": [
            "Enter kilograms: 80\n",
            "80.0 kilograms is equal to 176.3699536147022 pounds\n"
          ]
        }
      ]
    },
    {
      "cell_type": "code",
      "source": [
        "def inches_to_cm(inches):\n",
        "    centimeters = inches * 2.54\n",
        "    return centimeters\n",
        "inches = float(input(\"Enter inches: \"))\n",
        "centimeters = inches_to_cm(inches)\n",
        "print(inches, \"inches is equal to\", centimeters, \"centimeters\")"
      ],
      "metadata": {
        "colab": {
          "base_uri": "https://localhost:8080/"
        },
        "id": "Sr9d2kc7x4sI",
        "outputId": "4f355695-26b6-427d-e009-a07c2691159d"
      },
      "execution_count": 7,
      "outputs": [
        {
          "output_type": "stream",
          "name": "stdout",
          "text": [
            "Enter inches: 80\n",
            "80.0 inches is equal to 203.2 centimeters\n"
          ]
        }
      ]
    },
    {
      "cell_type": "code",
      "source": [
        "def cm_to_inches(centimeters):\n",
        "    inches = centimeters / 2.54\n",
        "    return inches\n",
        "centimeters = float(input(\"Enter centimeters: \"))\n",
        "inches = cm_to_inches(centimeters)\n",
        "print(centimeters, \"centimeters is equal to\", inches, \"inches\")"
      ],
      "metadata": {
        "colab": {
          "base_uri": "https://localhost:8080/"
        },
        "id": "s0CTGVppyBPx",
        "outputId": "5fc30233-305d-41cd-bfd0-0917f8829bb3"
      },
      "execution_count": 9,
      "outputs": [
        {
          "output_type": "stream",
          "name": "stdout",
          "text": [
            "Enter centimeters: 80\n",
            "80.0 centimeters is equal to 31.496062992125985 inches\n"
          ]
        }
      ]
    },
    {
      "cell_type": "code",
      "source": [
        "\"\"\"Conculsion- This code provides a simple and straightforward way to convert between common units of measurement.\n",
        "It provides a user-friendly interface for performing conversions.\"\"\""
      ],
      "metadata": {
        "id": "Pl_UucITyR3i"
      },
      "execution_count": null,
      "outputs": []
    },
    {
      "cell_type": "code",
      "source": [],
      "metadata": {
        "id": "K9CYOBJJyuBA"
      },
      "execution_count": null,
      "outputs": []
    }
  ]
}